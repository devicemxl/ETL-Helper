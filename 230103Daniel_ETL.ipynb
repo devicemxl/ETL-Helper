{
 "cells": [
  {
   "attachments": {},
   "cell_type": "markdown",
   "metadata": {},
   "source": [
    "# ETL-Helper\n",
    "\n",
    "*A little helper to help find the probable title*"
   ]
  },
  {
   "cell_type": "code",
   "execution_count": 1,
   "metadata": {},
   "outputs": [],
   "source": [
    "#CORRECTION FOR TITLES\n",
    "#!pip install PyYAML\n",
    "#!pip install fold_to_ascii"
   ]
  },
  {
   "cell_type": "code",
   "execution_count": 2,
   "metadata": {},
   "outputs": [],
   "source": [
    "import MungingOps as tt\n",
    "import pandas as pd\n",
    "import warnings"
   ]
  },
  {
   "cell_type": "code",
   "execution_count": 3,
   "metadata": {},
   "outputs": [],
   "source": [
    "# Flexibility, rapid responce:\n",
    "# This is not an oraculus, you not magicaly obtain the responce\n",
    "# Manipulate the number to manipulate the result\n",
    "#\n",
    "#\n",
    "# Flexibility, Razonable explication:\n",
    "# Flexibility refers to the range of bad response can be accepted;\n",
    "# this range is a quasy fuzzy response, not a binary logic\n",
    "# then the Jaccard Distance say this string is most ok or not ok,\n",
    "# traditionaly the jaccard distance in 0.8 is acceptable, but\n",
    "# sometimes is necesary more low number to obtain a responce\n",
    "#\n",
    "Flexibility = 0.6\n",
    "#\n",
    "warnings.filterwarnings('ignore')"
   ]
  },
  {
   "attachments": {},
   "cell_type": "markdown",
   "metadata": {},
   "source": [
    "### Load the Dictionary\n",
    "\n",
    "this file contains the relation of malformed tiles and their respective right titles"
   ]
  },
  {
   "cell_type": "code",
   "execution_count": 4,
   "metadata": {},
   "outputs": [],
   "source": [
    "RAW = pd.read_csv('DictionaryTitles.csv')"
   ]
  },
  {
   "cell_type": "markdown",
   "metadata": {},
   "source": [
    "Drop nulls"
   ]
  },
  {
   "cell_type": "code",
   "execution_count": 5,
   "metadata": {},
   "outputs": [],
   "source": [
    "try:\n",
    "    RAW.dropna(thresh=1, inplace=True)\n",
    "except: None\n",
    "try:\n",
    "    RAW.dropna(thresh=2, inplace=True)\n",
    "except: None\n"
   ]
  },
  {
   "attachments": {},
   "cell_type": "markdown",
   "metadata": {},
   "source": [
    "Work Safe with copy of Data"
   ]
  },
  {
   "cell_type": "code",
   "execution_count": 6,
   "metadata": {},
   "outputs": [],
   "source": [
    "df=RAW"
   ]
  },
  {
   "cell_type": "markdown",
   "metadata": {},
   "source": [
    "Load the Exceptions to evaluate\n",
    "\n"
   ]
  },
  {
   "cell_type": "code",
   "execution_count": 7,
   "metadata": {},
   "outputs": [],
   "source": [
    "EF = pd.read_csv('ExceptionTitles.csv')\n",
    "ExceptionTitles = EF.copy()"
   ]
  },
  {
   "cell_type": "markdown",
   "metadata": {},
   "source": [
    "Drop Nulls"
   ]
  },
  {
   "cell_type": "code",
   "execution_count": 8,
   "metadata": {},
   "outputs": [],
   "source": [
    "ExceptionTitles.dropna(inplace=True)"
   ]
  },
  {
   "attachments": {},
   "cell_type": "markdown",
   "metadata": {},
   "source": [
    "Clean the text to common english (130 ascii non unicoide) characters without symbols"
   ]
  },
  {
   "cell_type": "code",
   "execution_count": 9,
   "metadata": {},
   "outputs": [],
   "source": [
    "chng=[]\n",
    "for i in range(len(ExceptionTitles['Exceptions'])):\n",
    "    chng.append( tt.ExtraWhite(str(ExceptionTitles['Exceptions'][i]).replace('/','').replace(':','').replace('&','').replace('*','').replace('_','').replace('-','').replace(',','').replace('.','').replace(' ','')).replace('\"','').lower() )\n",
    "ExceptionTitles['ExceptionsVector'] = chng\n",
    "del chng"
   ]
  },
  {
   "cell_type": "code",
   "execution_count": 10,
   "metadata": {},
   "outputs": [],
   "source": [
    "chng=[]\n",
    "for i in range(len(df['GP_Title'])):\n",
    "    chng.append( tt.ExtraWhite(str(df['GP_Title'][i]).replace('/','').replace(':','').replace('&','').replace('*','').replace('_','').replace('-','').replace(',','').replace('.','').replace(' ','')).replace('\"','').lower() )\n",
    "df['GP_Title'] = chng\n",
    "del chng"
   ]
  },
  {
   "attachments": {},
   "cell_type": "markdown",
   "metadata": {},
   "source": [
    "Calculate the Jaccard Distance by each Exception for each Title"
   ]
  },
  {
   "cell_type": "code",
   "execution_count": 11,
   "metadata": {},
   "outputs": [],
   "source": [
    "# Calculate the Jaccard Distance by each Exception for each Title\n",
    "# Select the maximum Jaccard\n",
    "# if Jaccard is > Flexibility the make a Suggestion\n",
    "# si no pues no -0_o-\n",
    "#\n",
    "Exceptions=[]\n",
    "Suggested=[]\n",
    "Correction=[]\n",
    "Correction2=[]\n",
    "#\n",
    "for i in range(len(ExceptionTitles)):\n",
    "    try:\n",
    "        Comparison={}\n",
    "        k= ExceptionTitles['ExceptionsVector'][i]\n",
    "        for j in range(len(df['GP_Title'])):\n",
    "            m = df['GP_Title'][j]\n",
    "            Comparison[m] = (tt.JaccardDistance(k,m))\n",
    "            JaccardValues = max(zip(Comparison.values(),Comparison.keys()))\n",
    "            MaxJaccard = JaccardValues[1]\n",
    "        if JaccardValues[0] > Flexibility:\n",
    "            Exceptions.append(k)\n",
    "            Suggested.append(MaxJaccard)\n",
    "            Correction.append( df[ df['GP_Title'] == MaxJaccard ]['Title'].values[0] )\n",
    "            Correction2.append( df[ df['GP_Title'] == MaxJaccard ]['TitleID'].values[0] )\n",
    "        else:\n",
    "            Exceptions.append(k)\n",
    "            Suggested.append(None)\n",
    "            Correction.append(None)\n",
    "            Correction2.append(None)\n",
    "    except:\n",
    "            Exceptions.append(k)\n",
    "            Suggested.append(None)\n",
    "            Correction.append(None)\n",
    "            Correction2.append(None)"
   ]
  },
  {
   "cell_type": "code",
   "execution_count": 12,
   "metadata": {},
   "outputs": [],
   "source": [
    "# Add the results to the dataframe\n",
    "#\n",
    "resultado= pd.DataFrame()\n",
    "resultado['Exceptions'] = Exceptions\n",
    "resultado['Suggested'] = Suggested\n",
    "resultado['Title'] = Correction\n",
    "resultado['TitleID'] = Correction2"
   ]
  },
  {
   "attachments": {},
   "cell_type": "markdown",
   "metadata": {},
   "source": [
    "Delete the unnecesary working data"
   ]
  },
  {
   "cell_type": "code",
   "execution_count": 13,
   "metadata": {},
   "outputs": [],
   "source": [
    "# Delete the unnecesary working data\n",
    "#\n",
    "del df\n",
    "del ExceptionTitles"
   ]
  },
  {
   "cell_type": "markdown",
   "metadata": {},
   "source": [
    "Save to new file"
   ]
  },
  {
   "cell_type": "code",
   "execution_count": 14,
   "metadata": {},
   "outputs": [],
   "source": [
    "# Save to new file\n",
    "# Enable in prod\n",
    "resultado.to_excel('ExceptionResults.xlsx')"
   ]
  }
 ],
 "metadata": {
  "kernelspec": {
   "display_name": "Python 3",
   "language": "python",
   "name": "python3"
  },
  "language_info": {
   "codemirror_mode": {
    "name": "ipython",
    "version": 3
   },
   "file_extension": ".py",
   "mimetype": "text/x-python",
   "name": "python",
   "nbconvert_exporter": "python",
   "pygments_lexer": "ipython3",
   "version": "3.11.0 (main, Oct 24 2022, 18:26:48) [MSC v.1933 64 bit (AMD64)]"
  },
  "orig_nbformat": 4,
  "vscode": {
   "interpreter": {
    "hash": "30d2e53073fa3b0c18707560a78ad9c41a817781217c8f95a2444ace8faa1500"
   }
  }
 },
 "nbformat": 4,
 "nbformat_minor": 2
}

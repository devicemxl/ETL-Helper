{
 "cells": [
  {
   "attachments": {},
   "cell_type": "markdown",
   "metadata": {},
   "source": [
    "# ETL-Helper\n",
    "\n",
    "*A little helper to help find the probable title*"
   ]
  },
  {
   "cell_type": "code",
   "execution_count": 1,
   "metadata": {},
   "outputs": [],
   "source": [
    "#CORRECTION FOR TITLES\n",
    "#!pip install PyYAML\n",
    "#!pip install fold_to_ascii"
   ]
  },
  {
   "cell_type": "code",
   "execution_count": 2,
   "metadata": {},
   "outputs": [],
   "source": [
    "import MungingOps as tt\n",
    "import pandas as pd\n",
    "import warnings"
   ]
  },
  {
   "cell_type": "code",
   "execution_count": 3,
   "metadata": {},
   "outputs": [],
   "source": [
    "# Flexibility, rapid responce:\n",
    "# This is not an oraculus, you not magicaly obtain the responce\n",
    "# Manipulate the number to manipulate the result\n",
    "#\n",
    "#\n",
    "# Flexibility, Razonable explication:\n",
    "# Flexibility refers to the range of bad response can be accepted;\n",
    "# this range is a quasy fuzzy response, not a binary logic\n",
    "# then the Jaccard Distance say this string is most ok or not ok,\n",
    "# traditionaly the jaccard distance in 0.8 is acceptable, but\n",
    "# sometimes is necesary more low number to obtain a responce\n",
    "#\n",
    "Flexibility = 0.75\n",
    "#\n",
    "warnings.filterwarnings('ignore')"
   ]
  },
  {
   "attachments": {},
   "cell_type": "markdown",
   "metadata": {},
   "source": [
    "### Load the Dictionary\n",
    "\n",
    "this file contains the relation of malformed tiles and their respective right titles"
   ]
  },
  {
   "cell_type": "code",
   "execution_count": 4,
   "metadata": {},
   "outputs": [],
   "source": [
    "RAW = pd.read_excel('DictionaryTitles.xlsx')"
   ]
  },
  {
   "attachments": {},
   "cell_type": "markdown",
   "metadata": {},
   "source": [
    "Drop nulls"
   ]
  },
  {
   "cell_type": "code",
   "execution_count": 5,
   "metadata": {},
   "outputs": [],
   "source": [
    "try:\n",
    "    RAW.dropna(thresh=1, inplace=True)\n",
    "except: None\n",
    "try:\n",
    "    RAW.dropna(thresh=2, inplace=True)\n",
    "except: None\n"
   ]
  },
  {
   "attachments": {},
   "cell_type": "markdown",
   "metadata": {},
   "source": [
    "Work Safe with copy of Data"
   ]
  },
  {
   "cell_type": "code",
   "execution_count": 6,
   "metadata": {},
   "outputs": [],
   "source": [
    "df=RAW"
   ]
  },
  {
   "attachments": {},
   "cell_type": "markdown",
   "metadata": {},
   "source": [
    "Load the Exceptions to evaluate"
   ]
  },
  {
   "cell_type": "code",
   "execution_count": 7,
   "metadata": {},
   "outputs": [],
   "source": [
    "EF = pd.read_excel('ExceptionTitles.xlsx')\n",
    "ExceptionTitles = EF.copy()\n",
    "# Cut the dataset here to test\n",
    "#\n",
    "#\n",
    "#\n",
    "# PLEASE - IN PRODUCTION: - NO -\n",
    "#\n",
    "#\n",
    "#\n",
    "# ExceptionTitles=ExceptionTitles.head(10)"
   ]
  },
  {
   "cell_type": "markdown",
   "metadata": {},
   "source": [
    "Drop Nulls"
   ]
  },
  {
   "cell_type": "code",
   "execution_count": 8,
   "metadata": {},
   "outputs": [],
   "source": [
    "ExceptionTitles.dropna(inplace=True)"
   ]
  },
  {
   "attachments": {},
   "cell_type": "markdown",
   "metadata": {},
   "source": [
    "Clean the text to common english (130 ascii non unicoide) characters without symbols"
   ]
  },
  {
   "cell_type": "code",
   "execution_count": 9,
   "metadata": {},
   "outputs": [],
   "source": [
    "chng=[]\n",
    "for i in ExceptionTitles['Exceptions']:\n",
    "    chng.append( tt.ExtraWhite(str(i).replace('/','').replace(':','').replace('&','').replace('*','').replace('-','').replace(',','').replace('.','').replace(' ','')).replace('\"','').lower() )\n",
    "ExceptionTitles['ExceptionsVector'] = chng\n",
    "del chng"
   ]
  },
  {
   "cell_type": "code",
   "execution_count": 10,
   "metadata": {},
   "outputs": [],
   "source": [
    "# Explore the changes in data\n",
    "#\n",
    "#\n",
    "#\n",
    "# PLEASE - IN PRODUCTION: - NO -\n",
    "#\n",
    "#\n",
    "#\n",
    "#ExceptionTitles.head()"
   ]
  },
  {
   "cell_type": "code",
   "execution_count": 11,
   "metadata": {},
   "outputs": [],
   "source": [
    "chng=[]\n",
    "for i in df['GP_Title']:\n",
    "    chng.append( tt.ExtraWhite(str(i).replace('/','').replace(':','').replace('&','').replace('*','').replace('-','').replace(',','').replace('.','').replace(' ','')).replace('\"','').lower() )\n",
    "df['GP_Title'] = chng\n",
    "del chng"
   ]
  },
  {
   "cell_type": "code",
   "execution_count": 12,
   "metadata": {},
   "outputs": [],
   "source": [
    "# Explore the changes in data\n",
    "#\n",
    "#\n",
    "#\n",
    "# PLEASE - IN PRODUCTION: - NO -\n",
    "#\n",
    "#\n",
    "#\n",
    "#df.head()"
   ]
  },
  {
   "attachments": {},
   "cell_type": "markdown",
   "metadata": {},
   "source": [
    "Calculate the Jaccard Distance by each Exception for each GP_Title"
   ]
  },
  {
   "cell_type": "code",
   "execution_count": 13,
   "metadata": {},
   "outputs": [],
   "source": [
    "# Calculate the Jaccard Distance by each Exception for each GP_Title\n",
    "# Select the maximum Jaccard\n",
    "# if Jaccard is > Flexibility the make a Suggestion\n",
    "# si no pues no -0_o-\n",
    "#\n",
    "Suggested={}\n",
    "Correction={}\n",
    "Correction2={}\n",
    "#\n",
    "for i in ExceptionTitles['ExceptionsVector']:\n",
    "    Comparison={}\n",
    "    for j in df['GP_Title']:\n",
    "        Comparison[j] = (tt.JaccardDistance(i,j))\n",
    "        JaccardValues = max(zip(Comparison.values(),Comparison.keys()))\n",
    "        MaxJaccard = JaccardValues[1]\n",
    "    if JaccardValues[0] > Flexibility:\n",
    "        Suggested[i] = JaccardValues[1] \n",
    "        Correction[i] = df[ df['GP_Title'] == MaxJaccard ]['Title'].values[0]\n",
    "        Correction2[i] = df[ df['GP_Title'] == MaxJaccard ]['TitleID'].values[0]\n",
    "    else:\n",
    "        Suggested[i] = None\n",
    "        Correction[i] = None\n",
    "        Correction2[i] = None"
   ]
  },
  {
   "cell_type": "code",
   "execution_count": 14,
   "metadata": {},
   "outputs": [
    {
     "name": "stdout",
     "output_type": "stream",
     "text": [
      "dict_values([None, 'ciitreasuremd01110l', None, None, 'mightycashxtrareeljicai', 'tiger9princessofthedragonking', 'tiger9princessofthedragonking', 'xianghaoyunlonghaoyunlong', None, None])\n",
      "dict_values([None, 'Treasure', None, None, 'Ji Cai', 'Tiger', 'Tiger', 'Xiang', None, None])\n",
      "dict_values([None, 1246, None, None, 66, 488, 488, 369, None, None])\n"
     ]
    }
   ],
   "source": [
    "# See the results\n",
    "#\n",
    "#\n",
    "#\n",
    "# PLEASE - IN PRODUCTION: - NO -\n",
    "#\n",
    "#\n",
    "#\n",
    "print(Suggested.values())\n",
    "print(Correction.values())\n",
    "print(Correction2.values())"
   ]
  },
  {
   "cell_type": "code",
   "execution_count": 15,
   "metadata": {},
   "outputs": [],
   "source": [
    "# Add the results to the dataframe\n",
    "#\n",
    "ExceptionTitles['Suggested'] = Suggested.values()\n",
    "ExceptionTitles['Title'] = Correction.values()\n",
    "ExceptionTitles['TitleID'] = Correction2.values()"
   ]
  },
  {
   "attachments": {},
   "cell_type": "markdown",
   "metadata": {},
   "source": [
    "Delete the unnecesary working data"
   ]
  },
  {
   "cell_type": "code",
   "execution_count": 16,
   "metadata": {},
   "outputs": [
    {
     "data": {
      "text/html": [
       "<div>\n",
       "<style scoped>\n",
       "    .dataframe tbody tr th:only-of-type {\n",
       "        vertical-align: middle;\n",
       "    }\n",
       "\n",
       "    .dataframe tbody tr th {\n",
       "        vertical-align: top;\n",
       "    }\n",
       "\n",
       "    .dataframe thead th {\n",
       "        text-align: right;\n",
       "    }\n",
       "</style>\n",
       "<table border=\"1\" class=\"dataframe\">\n",
       "  <thead>\n",
       "    <tr style=\"text-align: right;\">\n",
       "      <th></th>\n",
       "      <th>Exceptions</th>\n",
       "      <th>Suggested</th>\n",
       "      <th>Title</th>\n",
       "      <th>TitleID</th>\n",
       "    </tr>\n",
       "  </thead>\n",
       "  <tbody>\n",
       "    <tr>\n",
       "      <th>0</th>\n",
       "      <td>10 Cr Multiplier/</td>\n",
       "      <td>None</td>\n",
       "      <td>None</td>\n",
       "      <td>NaN</td>\n",
       "    </tr>\n",
       "    <tr>\n",
       "      <th>1</th>\n",
       "      <td>10 Credit Multipl</td>\n",
       "      <td>ciitreasuremd01110l</td>\n",
       "      <td>Treasure</td>\n",
       "      <td>1246.0</td>\n",
       "    </tr>\n",
       "    <tr>\n",
       "      <th>2</th>\n",
       "      <td>10Cr Multiplier/2</td>\n",
       "      <td>None</td>\n",
       "      <td>None</td>\n",
       "      <td>NaN</td>\n",
       "    </tr>\n",
       "    <tr>\n",
       "      <th>3</th>\n",
       "      <td>5 Credit Multipli</td>\n",
       "      <td>None</td>\n",
       "      <td>None</td>\n",
       "      <td>NaN</td>\n",
       "    </tr>\n",
       "    <tr>\n",
       "      <th>4</th>\n",
       "      <td>Mighty Cash Xtra Reel</td>\n",
       "      <td>mightycashxtrareeljicai</td>\n",
       "      <td>Ji Cai</td>\n",
       "      <td>66.0</td>\n",
       "    </tr>\n",
       "    <tr>\n",
       "      <th>5</th>\n",
       "      <td>9 Princes If The Dragon King</td>\n",
       "      <td>tiger9princessofthedragonking</td>\n",
       "      <td>Tiger</td>\n",
       "      <td>488.0</td>\n",
       "    </tr>\n",
       "    <tr>\n",
       "      <th>6</th>\n",
       "      <td>9 Princes Of The Dragon King</td>\n",
       "      <td>tiger9princessofthedragonking</td>\n",
       "      <td>Tiger</td>\n",
       "      <td>488.0</td>\n",
       "    </tr>\n",
       "    <tr>\n",
       "      <th>7</th>\n",
       "      <td>*Ji - Hao Yun Long</td>\n",
       "      <td>xianghaoyunlonghaoyunlong</td>\n",
       "      <td>Xiang</td>\n",
       "      <td>369.0</td>\n",
       "    </tr>\n",
       "    <tr>\n",
       "      <th>8</th>\n",
       "      <td>.01VARIANCE</td>\n",
       "      <td>None</td>\n",
       "      <td>None</td>\n",
       "      <td>NaN</td>\n",
       "    </tr>\n",
       "    <tr>\n",
       "      <th>9</th>\n",
       "      <td>.02VARIANCE</td>\n",
       "      <td>None</td>\n",
       "      <td>None</td>\n",
       "      <td>NaN</td>\n",
       "    </tr>\n",
       "  </tbody>\n",
       "</table>\n",
       "</div>"
      ],
      "text/plain": [
       "                      Exceptions                      Suggested     Title  \\\n",
       "0              10 Cr Multiplier/                           None      None   \n",
       "1              10 Credit Multipl            ciitreasuremd01110l  Treasure   \n",
       "2              10Cr Multiplier/2                           None      None   \n",
       "3              5 Credit Multipli                           None      None   \n",
       "4          Mighty Cash Xtra Reel        mightycashxtrareeljicai    Ji Cai   \n",
       "5   9 Princes If The Dragon King  tiger9princessofthedragonking     Tiger   \n",
       "6   9 Princes Of The Dragon King  tiger9princessofthedragonking     Tiger   \n",
       "7             *Ji - Hao Yun Long      xianghaoyunlonghaoyunlong     Xiang   \n",
       "8                    .01VARIANCE                           None      None   \n",
       "9                    .02VARIANCE                           None      None   \n",
       "\n",
       "   TitleID  \n",
       "0      NaN  \n",
       "1   1246.0  \n",
       "2      NaN  \n",
       "3      NaN  \n",
       "4     66.0  \n",
       "5    488.0  \n",
       "6    488.0  \n",
       "7    369.0  \n",
       "8      NaN  \n",
       "9      NaN  "
      ]
     },
     "execution_count": 16,
     "metadata": {},
     "output_type": "execute_result"
    }
   ],
   "source": [
    "# Delete the unnecesary working data\n",
    "#\n",
    "del df\n",
    "ExceptionTitles.pop('ExceptionsVector')\n",
    "ExceptionTitles"
   ]
  },
  {
   "attachments": {},
   "cell_type": "markdown",
   "metadata": {},
   "source": [
    "Save to original file"
   ]
  },
  {
   "cell_type": "code",
   "execution_count": 17,
   "metadata": {},
   "outputs": [],
   "source": [
    "# Save to original file\n",
    "# Enable in prod\n",
    "ExceptionTitles.to_excel('ExceptionTitles.xlsx')"
   ]
  }
 ],
 "metadata": {
  "kernelspec": {
   "display_name": "Python 3",
   "language": "python",
   "name": "python3"
  },
  "language_info": {
   "codemirror_mode": {
    "name": "ipython",
    "version": 3
   },
   "file_extension": ".py",
   "mimetype": "text/x-python",
   "name": "python",
   "nbconvert_exporter": "python",
   "pygments_lexer": "ipython3",
   "version": "3.7.1 (default, Dec 10 2018, 22:54:23) [MSC v.1915 64 bit (AMD64)]"
  },
  "orig_nbformat": 4,
  "vscode": {
   "interpreter": {
    "hash": "ad4568570bde2b99dfddb4fb77914e5bbc313e9e8d27022b51348a51ec47d522"
   }
  }
 },
 "nbformat": 4,
 "nbformat_minor": 2
}

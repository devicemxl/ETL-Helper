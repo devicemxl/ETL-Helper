{
 "cells": [
  {
   "cell_type": "code",
   "execution_count": 1,
   "metadata": {},
   "outputs": [],
   "source": [
    "#!pip install pandas\n",
    "#!pip install seaborn\n",
    "#!pip install openpyxl\n",
    "#!pip install json\n",
    "#!pip install PyYAML\n",
    "#!pip install fold_to_ascii"
   ]
  },
  {
   "cell_type": "code",
   "execution_count": 2,
   "metadata": {},
   "outputs": [],
   "source": [
    "import TextTools as tt\n",
    "import pandas as pd\n",
    "import seaborn as sns"
   ]
  },
  {
   "cell_type": "code",
   "execution_count": 3,
   "metadata": {},
   "outputs": [
    {
     "data": {
      "text/html": [
       "<div>\n",
       "<style scoped>\n",
       "    .dataframe tbody tr th:only-of-type {\n",
       "        vertical-align: middle;\n",
       "    }\n",
       "\n",
       "    .dataframe tbody tr th {\n",
       "        vertical-align: top;\n",
       "    }\n",
       "\n",
       "    .dataframe thead th {\n",
       "        text-align: right;\n",
       "    }\n",
       "</style>\n",
       "<table border=\"1\" class=\"dataframe\">\n",
       "  <thead>\n",
       "    <tr style=\"text-align: right;\">\n",
       "      <th></th>\n",
       "      <th>GP_Title</th>\n",
       "      <th>Title</th>\n",
       "      <th>Unnamed: 2</th>\n",
       "      <th>Unnamed: 3</th>\n",
       "    </tr>\n",
       "  </thead>\n",
       "  <tbody>\n",
       "    <tr>\n",
       "      <th>0</th>\n",
       "      <td>NaN</td>\n",
       "      <td>HOWLING 7</td>\n",
       "      <td>NaN</td>\n",
       "      <td>NaN</td>\n",
       "    </tr>\n",
       "    <tr>\n",
       "      <th>1</th>\n",
       "      <td>Golden Zodiac</td>\n",
       "      <td>Golden Zodiac</td>\n",
       "      <td>NaN</td>\n",
       "      <td>NaN</td>\n",
       "    </tr>\n",
       "    <tr>\n",
       "      <th>2</th>\n",
       "      <td>100 LIONS</td>\n",
       "      <td>100 LIONS</td>\n",
       "      <td>NaN</td>\n",
       "      <td>NaN</td>\n",
       "    </tr>\n",
       "    <tr>\n",
       "      <th>3</th>\n",
       "      <td>200C  Macaw  Magic</td>\n",
       "      <td>Macaw Magic</td>\n",
       "      <td>NaN</td>\n",
       "      <td>NaN</td>\n",
       "    </tr>\n",
       "    <tr>\n",
       "      <th>4</th>\n",
       "      <td>5 DRAGONS</td>\n",
       "      <td>5 Dragons</td>\n",
       "      <td>NaN</td>\n",
       "      <td>NaN</td>\n",
       "    </tr>\n",
       "  </tbody>\n",
       "</table>\n",
       "</div>"
      ],
      "text/plain": [
       "              GP_Title          Title  Unnamed: 2 Unnamed: 3\n",
       "0                  NaN      HOWLING 7         NaN        NaN\n",
       "1        Golden Zodiac  Golden Zodiac         NaN        NaN\n",
       "2            100 LIONS      100 LIONS         NaN        NaN\n",
       "3   200C  Macaw  Magic    Macaw Magic         NaN        NaN\n",
       "4          5 DRAGONS        5 Dragons         NaN        NaN"
      ]
     },
     "execution_count": 3,
     "metadata": {},
     "output_type": "execute_result"
    }
   ],
   "source": [
    "# The Dictionary\n",
    "raw = pd.read_excel('Titles.xlsx')\n",
    "raw.head()"
   ]
  },
  {
   "cell_type": "code",
   "execution_count": 4,
   "metadata": {},
   "outputs": [
    {
     "data": {
      "text/plain": [
       "(25732, 4)"
      ]
     },
     "execution_count": 4,
     "metadata": {},
     "output_type": "execute_result"
    }
   ],
   "source": [
    "#raw.pop(raw.columns[2])\n",
    "#raw.pop(raw.columns[2])\n",
    "raw.shape"
   ]
  },
  {
   "cell_type": "code",
   "execution_count": 5,
   "metadata": {},
   "outputs": [],
   "source": [
    "#raw[raw['GP_Title'].isnull()]"
   ]
  },
  {
   "cell_type": "code",
   "execution_count": 6,
   "metadata": {},
   "outputs": [],
   "source": [
    "try:\n",
    "    raw.dropna(thresh=1, inplace=True)\n",
    "except: None\n",
    "try:\n",
    "    raw.dropna(thresh=2, inplace=True)\n",
    "except: None"
   ]
  },
  {
   "cell_type": "code",
   "execution_count": 7,
   "metadata": {},
   "outputs": [],
   "source": [
    "#raw[raw['GP_Title'].isnull()]"
   ]
  },
  {
   "cell_type": "code",
   "execution_count": 8,
   "metadata": {},
   "outputs": [],
   "source": [
    "df=raw"
   ]
  },
  {
   "cell_type": "code",
   "execution_count": 9,
   "metadata": {},
   "outputs": [
    {
     "name": "stdout",
     "output_type": "stream",
     "text": [
      "i have 1060 distinct ????\n"
     ]
    }
   ],
   "source": [
    "print('i have', df.groupby('Title').count().shape[0], 'distinct ????')"
   ]
  },
  {
   "cell_type": "code",
   "execution_count": null,
   "metadata": {},
   "outputs": [],
   "source": [
    "# The Dictionary\n",
    "ExcelExceptions = pd.read_excel('Exceptions.xlsx')\n",
    "#del raw"
   ]
  },
  {
   "cell_type": "code",
   "execution_count": null,
   "metadata": {},
   "outputs": [],
   "source": [
    "# Para Produccion Eliminamos los limites en la evaluacion\n",
    "#\n",
    "Suggested=[]\n",
    "iter=0\n",
    "for i in ExcelExceptions:\n",
    "    if iter < 1000000:\n",
    "        # Limpiamos datos\n",
    "        i= i.lower()\n",
    "        Comparison={}\n",
    "        for j in df.GP_Title:\n",
    "            j= j.lower()\n",
    "            Comparison[j]=(tt.JaccardDistance(i,j))\n",
    "        Suggested.append(max(zip(Comparison.values(), Comparison.keys()))[1])\n",
    "        iter=iter+1"
   ]
  },
  {
   "cell_type": "code",
   "execution_count": null,
   "metadata": {},
   "outputs": [],
   "source": [
    "ExcelExceptions['Suggested']=Suggested"
   ]
  },
  {
   "cell_type": "code",
   "execution_count": null,
   "metadata": {},
   "outputs": [],
   "source": [
    "Correction=[]\n",
    "for i in ExcelExceptions['Suggested']:\n",
    "    for j in range(len(df.GP_Title)):\n",
    "        if df.GP_Title[j] == i: Correction.append(df.Title[j])\n",
    "        else: Correction.append(None)\n"
   ]
  },
  {
   "cell_type": "code",
   "execution_count": null,
   "metadata": {},
   "outputs": [],
   "source": [
    "ExcelExceptions.pop('Suggested')\n",
    "ExcelExceptions['Suggested']=Correction"
   ]
  },
  {
   "cell_type": "code",
   "execution_count": null,
   "metadata": {},
   "outputs": [],
   "source": [
    "ExcelExceptions.to_excel('TitleTest.xlsx')"
   ]
  }
 ],
 "metadata": {
  "kernelspec": {
   "display_name": "Python 3.9.13 ('KNIME')",
   "language": "python",
   "name": "python3"
  },
  "language_info": {
   "codemirror_mode": {
    "name": "ipython",
    "version": 3
   },
   "file_extension": ".py",
   "mimetype": "text/x-python",
   "name": "python",
   "nbconvert_exporter": "python",
   "pygments_lexer": "ipython3",
   "version": "3.9.13"
  },
  "orig_nbformat": 4,
  "vscode": {
   "interpreter": {
    "hash": "7a63214a5b2a8ac74e5602caa629ca3a20cab05c5c4d66eed99bbbc57da64b25"
   }
  }
 },
 "nbformat": 4,
 "nbformat_minor": 2
}
